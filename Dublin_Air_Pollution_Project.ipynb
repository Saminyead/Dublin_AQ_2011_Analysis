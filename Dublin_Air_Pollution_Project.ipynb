{
 "cells": [
  {
   "cell_type": "code",
   "execution_count": 2,
   "metadata": {},
   "outputs": [],
   "source": [
    "#importing pandas library\n",
    "import pandas as pd"
   ]
  },
  {
   "cell_type": "code",
   "execution_count": 41,
   "metadata": {},
   "outputs": [],
   "source": [
    "#import all datasets in this cell and following\n",
    "#directory of datasets\n",
    "dataset_path='./Datasets'\n",
    "#co dataset\n",
    "dublin_co = pd.read_csv(dataset_path+'/dublin-city-council-co-2011.csv')"
   ]
  },
  {
   "cell_type": "code",
   "execution_count": 62,
   "metadata": {},
   "outputs": [],
   "source": [
    "#nox dataset\n",
    "dublin_nox = pd.read_csv(dataset_path+'/dublin-city-council-no-no2-2011.csv')"
   ]
  },
  {
   "cell_type": "code",
   "execution_count": 43,
   "metadata": {},
   "outputs": [],
   "source": [
    "#pm dataset\n",
    "dublin_pm = pd.read_csv(dataset_path+'/dublin-city-council-pm10-2-5-2011.csv',encoding='unicode_escape')"
   ]
  },
  {
   "cell_type": "code",
   "execution_count": 70,
   "metadata": {},
   "outputs": [],
   "source": [
    "#so2 dataset\n",
    "dublin_so2 = pd.read_csv(dataset_path+'/dublin-city-council-so2-2011.csv')"
   ]
  },
  {
   "cell_type": "markdown",
   "metadata": {},
   "source": [
    "# Following cells are for implementing the append_st_to_param_name function on the dataframes"
   ]
  },
  {
   "cell_type": "code",
   "execution_count": 45,
   "metadata": {},
   "outputs": [],
   "source": [
    "#function to append the street name to the cells of row index = 5\n",
    "#creating a new label for the cells of row index = 5 such that it contains the station name and the measured parameter\n",
    "#the cells will later become the column names\n",
    "def append_st_to_param_name(df, stname_index_r,stname_index_c,row_range_r,row_range_c_start,row_range_c_stop):\n",
    "    #df = dataframe whose cells to append\n",
    "    #row_range_r = the index of the row where to append the street names\n",
    "    #row_range_c_start = the index of the first column of the range of columns where to append the street names\n",
    "    #row_range_c_stop = the index of the last column of the range of columns where to append the street names\n",
    "    #stname_index_r = the index of the row where the station name is\n",
    "    #stname_index_c = the index of the column where the station name is\n",
    "    df.iloc[row_range_r, row_range_c_start:row_range_c_stop] = [df.iloc[stname_index_r,stname_index_c] +\n",
    "                                                                \" \" +pre_label for pre_label in  \n",
    "                                                                df.iloc[row_range_r, \n",
    "                                                                        row_range_c_start:row_range_c_stop]]\n",
    "    new_labels = df.iloc[row_range_r, row_range_c_start:row_range_c_stop]\n",
    "    return new_labels"
   ]
  },
  {
   "cell_type": "code",
   "execution_count": 46,
   "metadata": {},
   "outputs": [
    {
     "data": {
      "text/plain": [
       "Unnamed: 2                  Wood Quay (Winetavern St.) CO mg/m3\n",
       "Unnamed: 3               Wood Quay (Winetavern St.) 8 hr rol...\n",
       "Unnamed: 4                      Wood Quay (Winetavern St.) Flag\n",
       "Unnamed: 5                   Wood Quay (Winetavern St.) Comment\n",
       "Name: 5, dtype: object"
      ]
     },
     "execution_count": 46,
     "metadata": {},
     "output_type": "execute_result"
    }
   ],
   "source": [
    "#label change for dublin_co.iloc[5,2:6]\n",
    "append_st_to_param_name(dublin_co,4,2,5,2,6)"
   ]
  },
  {
   "cell_type": "code",
   "execution_count": 48,
   "metadata": {},
   "outputs": [
    {
     "data": {
      "text/plain": [
       "Unnamed: 6                    Coleraine Street CO mg/m3\n",
       "Unnamed: 7             Coleraine Street 8 hr roling avg\n",
       "Unnamed: 8                        Coleraine Street Flag\n",
       "Unnamed: 9                     Coleraine Street Comment\n",
       "Name: 5, dtype: object"
      ]
     },
     "execution_count": 48,
     "metadata": {},
     "output_type": "execute_result"
    }
   ],
   "source": [
    "#label change for dublin_co.iloc[5,6:10]\n",
    "append_st_to_param_name(dublin_co, 4, 6, 5, 6, 10)"
   ]
  },
  {
   "cell_type": "code",
   "execution_count": 63,
   "metadata": {},
   "outputs": [
    {
     "data": {
      "text/plain": [
       "Unnamed: 2    Ballyfermot MPS NO2 ug/m3\n",
       "Unnamed: 3     Ballyfermot MPS NO ug/m3\n",
       "Unnamed: 4    Ballyfermot MPS NOx ug/m3\n",
       "Unnamed: 5    Ballyfermot MPS NO2 Check\n",
       "Unnamed: 6         Ballyfermot MPS Flag\n",
       "Unnamed: 7      Ballyfermot MPS Comment\n",
       "Name: 5, dtype: object"
      ]
     },
     "execution_count": 63,
     "metadata": {},
     "output_type": "execute_result"
    }
   ],
   "source": [
    "#label change for dublin_nox.iloc[5,2:8]\n",
    "append_st_to_param_name(dublin_nox, 4, 4, 5, 2, 8)"
   ]
  },
  {
   "cell_type": "code",
   "execution_count": 64,
   "metadata": {},
   "outputs": [
    {
     "data": {
      "text/plain": [
       "Unnamed: 8                                                Col...\n",
       "Unnamed: 9                                                Col...\n",
       "Unnamed: 10                                               Col...\n",
       "Unnamed: 11                                               Col...\n",
       "Unnamed: 12                                               Col...\n",
       "Unnamed: 13                                               Col...\n",
       "Name: 5, dtype: object"
      ]
     },
     "execution_count": 64,
     "metadata": {},
     "output_type": "execute_result"
    }
   ],
   "source": [
    "#label change for dublin_nox.iloc[5,8:14]\n",
    "append_st_to_param_name(dublin_nox,4,8,5,8,14)"
   ]
  },
  {
   "cell_type": "code",
   "execution_count": 65,
   "metadata": {},
   "outputs": [
    {
     "data": {
      "text/plain": [
       "'                                           Coleraine Street  NOx ug/m3'"
      ]
     },
     "execution_count": 65,
     "metadata": {},
     "output_type": "execute_result"
    }
   ],
   "source": [
    "dublin_nox.iloc[5,10]"
   ]
  },
  {
   "cell_type": "code",
   "execution_count": 66,
   "metadata": {},
   "outputs": [
    {
     "data": {
      "text/plain": [
       "Unnamed: 14                                  Wood Quay (Winet...\n",
       "Unnamed: 15                                  Wood Quay (Winet...\n",
       "Unnamed: 16                                  Wood Quay (Winet...\n",
       "Unnamed: 17                                  Wood Quay (Winet...\n",
       "Unnamed: 18                                  Wood Quay (Winet...\n",
       "Unnamed: 19                                  Wood Quay (Winet...\n",
       "Name: 5, dtype: object"
      ]
     },
     "execution_count": 66,
     "metadata": {},
     "output_type": "execute_result"
    }
   ],
   "source": [
    "#label change for dublin_nox.iloc[5,14:20]\n",
    "append_st_to_param_name(dublin_nox,4,14,5,14,20)"
   ]
  },
  {
   "cell_type": "code",
   "execution_count": 67,
   "metadata": {},
   "outputs": [
    {
     "data": {
      "text/plain": [
       "'                              Wood Quay (Winetavern St.) NO ug/m3'"
      ]
     },
     "execution_count": 67,
     "metadata": {},
     "output_type": "execute_result"
    }
   ],
   "source": [
    "dublin_nox.iloc[5,15]"
   ]
  },
  {
   "cell_type": "code",
   "execution_count": 71,
   "metadata": {
    "scrolled": true
   },
   "outputs": [
    {
     "data": {
      "text/plain": [
       "Unnamed: 2                          Coleraine Street  SO2 ug/m3\n",
       "Unnamed: 3                      Coleraine Street  Daily Avg ...\n",
       "Unnamed: 4                               Coleraine Street  Flag\n",
       "Unnamed: 5                            Coleraine Street  Comment\n",
       "Name: 5, dtype: object"
      ]
     },
     "execution_count": 71,
     "metadata": {},
     "output_type": "execute_result"
    }
   ],
   "source": [
    "#label change for dublin_so2.iloc[5,2:6]\n",
    "append_st_to_param_name(dublin_so2, 3, 2, 5, 2, 6)"
   ]
  },
  {
   "cell_type": "code",
   "execution_count": 72,
   "metadata": {},
   "outputs": [
    {
     "name": "stdout",
     "output_type": "stream",
     "text": [
      "                  Coleraine Street  Daily Avg 24 hr.\n"
     ]
    }
   ],
   "source": [
    "print(dublin_so2.iloc[5,3])"
   ]
  },
  {
   "cell_type": "code",
   "execution_count": 73,
   "metadata": {},
   "outputs": [
    {
     "data": {
      "text/plain": [
       "Unnamed: 6                            Wood Quay (Winetavern ...\n",
       "Unnamed: 7                            Wood Quay (Winetavern ...\n",
       "Unnamed: 8                            Wood Quay (Winetavern ...\n",
       "Unnamed: 9                            Wood Quay (Winetavern ...\n",
       "Name: 5, dtype: object"
      ]
     },
     "execution_count": 73,
     "metadata": {},
     "output_type": "execute_result"
    }
   ],
   "source": [
    "#label change for dublin_so2.iloc[5,6:10]\n",
    "append_st_to_param_name(dublin_so2,3,6,5,6,10)"
   ]
  },
  {
   "cell_type": "code",
   "execution_count": 74,
   "metadata": {},
   "outputs": [
    {
     "name": "stdout",
     "output_type": "stream",
     "text": [
      "                        Wood Quay (Winetavern St.) Daily Avg 24 hr.\n"
     ]
    }
   ],
   "source": [
    "print(dublin_so2.iloc[5,7])"
   ]
  },
  {
   "cell_type": "code",
   "execution_count": 75,
   "metadata": {},
   "outputs": [
    {
     "data": {
      "text/plain": [
       "Unnamed: 10           Ballyfermot SO2 ug/m3\n",
       "Unnamed: 11    Ballyfermot Daily Avg 24 hr.\n",
       "Unnamed: 12                Ballyfermot Flag\n",
       "Unnamed: 13             Ballyfermot Comment\n",
       "Name: 5, dtype: object"
      ]
     },
     "execution_count": 75,
     "metadata": {},
     "output_type": "execute_result"
    }
   ],
   "source": [
    "#label change for dublin_nox.iloc[5,10:14]\n",
    "append_st_to_param_name(dublin_so2,3,12,5,10,14)"
   ]
  },
  {
   "cell_type": "code",
   "execution_count": 76,
   "metadata": {},
   "outputs": [
    {
     "data": {
      "text/plain": [
       "'Ballyfermot Flag'"
      ]
     },
     "execution_count": 76,
     "metadata": {},
     "output_type": "execute_result"
    }
   ],
   "source": [
    "dublin_so2.iloc[5,12]"
   ]
  },
  {
   "cell_type": "code",
   "execution_count": null,
   "metadata": {},
   "outputs": [],
   "source": []
  }
 ],
 "metadata": {
  "interpreter": {
   "hash": "f08154012ddadd8e950e6e9e035c7a7b32c136e7647e9b7c77e02eb723a8bedb"
  },
  "kernelspec": {
   "display_name": "Python 3.7.6 ('base')",
   "language": "python",
   "name": "python3"
  },
  "language_info": {
   "codemirror_mode": {
    "name": "ipython",
    "version": 3
   },
   "file_extension": ".py",
   "mimetype": "text/x-python",
   "name": "python",
   "nbconvert_exporter": "python",
   "pygments_lexer": "ipython3",
   "version": "3.7.6"
  }
 },
 "nbformat": 4,
 "nbformat_minor": 4
}
